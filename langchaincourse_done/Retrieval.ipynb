{
 "cells": [
  {
   "cell_type": "code",
   "execution_count": 82,
   "id": "375683c0",
   "metadata": {},
   "outputs": [],
   "source": [
    "import os\n",
    "from openai import OpenAI\n",
    "\n",
    "\n",
    "from dotenv import load_dotenv, find_dotenv\n",
    "_ = load_dotenv(find_dotenv()) # read local .env file\n",
    "api_key = os.environ['OPENAI_API_KEY']\n",
    "\n",
    "from langchain_openai import ChatOpenAI\n",
    "#memory and conversation\n",
    "from langchain.chains import ConversationChain\n",
    "from langchain.memory import ConversationSummaryMemory\n",
    "#chain\n",
    "from langchain.chains import LLMChain\n",
    "from langchain.chains import SequentialChain\n",
    "from langchain_core.runnables import RunnableMap\n",
    "#prompts\n",
    "from langchain.prompts import ChatPromptTemplate, SystemMessagePromptTemplate, HumanMessagePromptTemplate\n",
    "#retrieval\n",
    "from langchain.chains import RetrievalQA\n",
    "from langchain_openai import OpenAIEmbeddings\n",
    "\n",
    "from langchain.vectorstores import DocArrayInMemorySearch\n",
    "\n",
    "from langchain.indexes import VectorstoreIndexCreator\n",
    "from langchain.document_loaders import CSVLoader\n",
    "from IPython.display import display, Markdown"
   ]
  },
  {
   "cell_type": "code",
   "execution_count": 24,
   "id": "34260ab9",
   "metadata": {},
   "outputs": [],
   "source": [
    "file = 'OutdoorClothingCatalog_1000.csv'\n",
    "loader = CSVLoader(file_path=file)"
   ]
  },
  {
   "cell_type": "code",
   "execution_count": 28,
   "id": "3a01de32",
   "metadata": {},
   "outputs": [],
   "source": [
    "llm = ChatOpenAI(\n",
    "    model=\"gpt-4o\",\n",
    "    temperature=0.9,\n",
    "    max_tokens=None,\n",
    "    timeout=None,\n",
    ")"
   ]
  },
  {
   "cell_type": "code",
   "execution_count": 29,
   "id": "609a54de",
   "metadata": {},
   "outputs": [],
   "source": [
    "# Initialize the embedding model\n",
    "embedding = OpenAIEmbeddings()"
   ]
  },
  {
   "cell_type": "code",
   "execution_count": 30,
   "id": "59f43e2b",
   "metadata": {},
   "outputs": [],
   "source": [
    "# Create the index with the embedding model\n",
    "index = VectorstoreIndexCreator(\n",
    "    vectorstore_cls=DocArrayInMemorySearch,\n",
    "    embedding=embedding\n",
    ").from_loaders([loader])"
   ]
  },
  {
   "cell_type": "code",
   "execution_count": 33,
   "id": "b0a2fea3",
   "metadata": {},
   "outputs": [
    {
     "name": "stdout",
     "output_type": "stream",
     "text": [
      "{'query': 'What is the content of the file?', 'result': 'The content of the file includes product features, such as a zip-fly front, an internal key fob, a zippered security pocket, and two back pockets with Velcro-closures. It also mentions that the item is imported and that assembly is required, with instructions included.'}\n"
     ]
    }
   ],
   "source": [
    "# Query the index using the LLM\n",
    "retriever = index.vectorstore.as_retriever()\n",
    "retrieval_qa = RetrievalQA.from_chain_type(llm=llm, retriever=retriever)\n",
    "\n",
    "# Perform a query using `invoke`\n",
    "query = \"What is the content of the file?\"\n",
    "response = retrieval_qa.invoke({\"query\": query})\n",
    "print(response)\n"
   ]
  },
  {
   "cell_type": "code",
   "execution_count": 38,
   "id": "9ecd302a",
   "metadata": {},
   "outputs": [
    {
     "data": {
      "text/markdown": [
       "Here is a table of shirts with sun protection, along with their summaries:\n",
       "\n",
       "| Name                                       | Summary                                                                                           |\n",
       "|--------------------------------------------|---------------------------------------------------------------------------------------------------|\n",
       "| Men's Tropical Plaid Short-Sleeve Shirt    | Lightest hot-weather shirt with UPF 50+, wrinkle-resistant, and features cape venting and bellows pockets. Made of 100% polyester. |\n",
       "| Men's Plaid Tropic Shirt, Short-Sleeve     | Ultracomfortable shirt with UPF 50+, quick-dry, and wrinkle-free, originally designed for fishing. Made of 52% polyester and 48% nylon. |\n",
       "| Men's TropicVibe Shirt, Short-Sleeve       | Sun-protection shirt with UPF 50+, wrinkle-resistant, and cape venting. Made of 71% nylon and 29% polyester. |\n",
       "| Sun Shield Shirt                           | High-performance sun shirt with UPF 50+, moisture-wicking, and abrasion-resistant. Made of 78% nylon and 22% Lycra. |\n",
       "\n",
       "All shirts provide the highest sun protection rating of UPF 50+, blocking 98% of UV rays."
      ],
      "text/plain": [
       "<IPython.core.display.Markdown object>"
      ]
     },
     "metadata": {},
     "output_type": "display_data"
    }
   ],
   "source": [
    "query =\"Please list all your shirts with sun protection \\\n",
    "in a table in markdown and summarize each one.\"\n",
    "response = retrieval_qa.invoke({\"query\": query})\n",
    "markdown=response[\"result\"]\n",
    "\n",
    "display(Markdown(markdown))"
   ]
  },
  {
   "cell_type": "code",
   "execution_count": 39,
   "id": "7dd74d52",
   "metadata": {},
   "outputs": [],
   "source": [
    "###BREAKDOWN FURTHER\n",
    "\n",
    "from langchain.document_loaders import CSVLoader\n",
    "loader = CSVLoader(file_path=file)"
   ]
  },
  {
   "cell_type": "code",
   "execution_count": 40,
   "id": "5ccd0e0a",
   "metadata": {},
   "outputs": [
    {
     "name": "stdout",
     "output_type": "stream",
     "text": [
      "1536\n",
      "[-0.02196465528695117, 0.006758838256223806, -0.018249490165056663, -0.03923515029463157, -0.014007174091135742]\n"
     ]
    }
   ],
   "source": [
    "docs = loader.load()\n",
    "docs[0]\n",
    "from langchain.embeddings import OpenAIEmbeddings\n",
    "embeddings = OpenAIEmbeddings()\n",
    "embed = embeddings.embed_query(\"Hi my name is Harrison\")\n",
    "\n",
    "print(len(embed))\n",
    "print(embed[:5])"
   ]
  },
  {
   "cell_type": "code",
   "execution_count": 44,
   "id": "a36baa69",
   "metadata": {},
   "outputs": [],
   "source": [
    "db = DocArrayInMemorySearch.from_documents(\n",
    "    docs, \n",
    "    embeddings\n",
    ")"
   ]
  },
  {
   "cell_type": "code",
   "execution_count": 45,
   "id": "26e1e38a",
   "metadata": {},
   "outputs": [],
   "source": [
    "query = \"Please suggest a shirt with sunblocking\"\n",
    "docs = db.similarity_search(query)\n",
    "len(docs)\n",
    "docs[0]\n",
    "retriever = db.as_retriever()\n",
    "qdocs = \"\".join([docs[i].page_content for i in range(len(docs))])\n"
   ]
  },
  {
   "cell_type": "code",
   "execution_count": 46,
   "id": "22ca1fd8",
   "metadata": {},
   "outputs": [
    {
     "name": "stderr",
     "output_type": "stream",
     "text": [
      "/var/folders/92/2bkn947d4zg176jv54whzzpr0000gn/T/ipykernel_10174/2400299747.py:1: LangChainDeprecationWarning: The method `BaseChatModel.call_as_llm` was deprecated in langchain-core 0.1.7 and will be removed in 1.0. Use :meth:`~invoke` instead.\n",
      "  response = llm.call_as_llm(f\"{qdocs} Question: Please list all your \\\n"
     ]
    },
    {
     "data": {
      "text/markdown": [
       "Certainly! Below is a markdown table summarizing the shirts with sun protection features:\n",
       "\n",
       "| Name                                  | Description                                                                                                                             | Main Features                                                                                   |\n",
       "|---------------------------------------|-----------------------------------------------------------------------------------------------------------------------------------------|-------------------------------------------------------------------------------------------------|\n",
       "| Sun Shield Shirt                      | High-performance sun shirt with UPF 50+ protection. Slightly fitted and soft, made with 78% nylon and 22% Lycra Xtra Life fiber.        | Moisture-wicking, abrasion-resistant, fits over swimsuits, hand wash, line dry.                 |\n",
       "| Men's Plaid Tropic Shirt, Short-Sleeve| UPF 50+ sun protection shirt originally designed for fishing. Made of 52% polyester and 48% nylon.                                      | Wrinkle-free, moisture-evaporating, front and back cape venting, machine washable and dryable. |\n",
       "| Men's TropicVibe Shirt, Short-Sleeve  | Lightweight sun-protection shirt with UPF 50+. Made with 71% nylon and 29% polyester shell, and 100% polyester knit mesh lining.        | Wrinkle-resistant, front and back cape venting, machine wash and dry.                          |\n",
       "| Men's Tropical Plaid Short-Sleeve Shirt| UPF 50+ hot-weather protection. Made of 100% polyester for a relaxed fit.                                                                | Wrinkle-resistant, front and back cape venting, highest rated sun protection.                  |\n",
       "\n",
       "Each shirt offers UPF 50+ sun protection, which blocks 98% of harmful UV rays. They are designed to be comfortable, functional, and provide reliable sun safety, whether for fishing, travel, or leisure."
      ],
      "text/plain": [
       "<IPython.core.display.Markdown object>"
      ]
     },
     "metadata": {},
     "output_type": "display_data"
    }
   ],
   "source": [
    "response = llm.call_as_llm(f\"{qdocs} Question: Please list all your \\\n",
    "shirts with sun protection in a table in markdown and summarize each one.\") \n",
    "display(Markdown(response))"
   ]
  },
  {
   "cell_type": "code",
   "execution_count": 63,
   "id": "42690d40",
   "metadata": {},
   "outputs": [],
   "source": [
    "#lets analyze a 3 statement model\n",
    "import pandas as pd\n",
    "from langchain.docstore.document import Document\n",
    "\n",
    "\n",
    "#Step 1: Load the file\n",
    "finfile = '3Statement.xlsx'\n",
    "finmodel = pd.read_excel(finfile)\n"
   ]
  },
  {
   "cell_type": "code",
   "execution_count": 64,
   "id": "8fd97a9b",
   "metadata": {},
   "outputs": [],
   "source": [
    "# Step 2: Define a Custom Loader Class\n",
    "class PandasDataFrameLoader:\n",
    "    def __init__(self, df):\n",
    "        self.df = df\n",
    "\n",
    "    def load(self):\n",
    "        documents = []\n",
    "        for _, row in self.df.iterrows():\n",
    "            # Combine all columns into a single string for each row\n",
    "            content = \" \".join([f\"{col}: {value}\" for col, value in row.items()])\n",
    "            documents.append(Document(page_content=content))\n",
    "        return documents"
   ]
  },
  {
   "cell_type": "code",
   "execution_count": 74,
   "id": "102d9cf1",
   "metadata": {},
   "outputs": [],
   "source": [
    "# Create the loader\n",
    "loader = PandasDataFrameLoader(finmodel)\n",
    "\n",
    "# Step 3: Initialize the Embedding Model\n",
    "embedding = OpenAIEmbeddings()\n",
    "\n",
    "# Step 4: Create the Index with the Custom Loader\n",
    "index = VectorstoreIndexCreator(\n",
    "    vectorstore_cls=DocArrayInMemorySearch,\n",
    "    embedding=embedding\n",
    ").from_loaders([loader])\n",
    "\n",
    "retriever = index.vectorstore.as_retriever()\n",
    "# Create a RetrievalQA chain\n",
    "retrieval_qa = RetrievalQA.from_chain_type(\n",
    "    llm=llm,\n",
    "    retriever=retriever\n",
    ")\n"
   ]
  },
  {
   "cell_type": "code",
   "execution_count": 81,
   "id": "5b8d5b72",
   "metadata": {},
   "outputs": [
    {
     "name": "stdout",
     "output_type": "stream",
     "text": [
      "{'query': 'You are looking at a 3 statement model. In each row is a title for the line item, and the values for 2019, 2020, 2021, 2022, 2023, 2024, 2025 and 2026. What is the Products revenue from 2019. Take the first column in the row once you find it.', 'result': 'According to the data, the total revenue for 2019 is 13118. However, the context provided does not specify a separate line item for \"Products revenue,\" so I cannot determine the product revenue amount specifically from the information given.'}\n"
     ]
    }
   ],
   "source": [
    "\n",
    "# Step 5: Query the Index\n",
    "query = \"You are looking at a 3 statement model. In each row is a title for the line item, and the values for 2019, 2020, 2021, 2022, 2023, 2024, 2025 and 2026. What is the Products revenue from 2019. Take the first column in the row once you find it.\"\n",
    "response = retrieval_qa.invoke({\"query\": query})\n",
    "print(response)"
   ]
  },
  {
   "cell_type": "code",
   "execution_count": 86,
   "id": "a850df71",
   "metadata": {},
   "outputs": [],
   "source": [
    "from langchain.chains.retrieval import create_retrieval_chain\n",
    "from langchain.memory import ConversationBufferMemory"
   ]
  },
  {
   "cell_type": "code",
   "execution_count": 88,
   "id": "d6c594b2",
   "metadata": {},
   "outputs": [],
   "source": [
    "# Step 3: Define Memory for Conversation\n",
    "memory = ConversationBufferMemory(\n",
    "    memory_key=\"chat_history\",\n",
    "    return_messages=True\n",
    ")\n"
   ]
  },
  {
   "cell_type": "code",
   "execution_count": 90,
   "id": "81a3364d",
   "metadata": {},
   "outputs": [
    {
     "name": "stderr",
     "output_type": "stream",
     "text": [
      "/var/folders/92/2bkn947d4zg176jv54whzzpr0000gn/T/ipykernel_10174/2245721186.py:11: LangChainDeprecationWarning: The class `LLMChain` was deprecated in LangChain 0.1.17 and will be removed in 1.0. Use :meth:`~RunnableSequence, e.g., `prompt | llm`` instead.\n",
      "  question_generator = LLMChain(llm=llm, prompt=question_generator_prompt)\n"
     ]
    }
   ],
   "source": [
    "# Step 4: Create a Question Generator Chain\n",
    "from langchain.prompts import PromptTemplate\n",
    "question_generator_prompt = PromptTemplate(\n",
    "    input_variables=[\"chat_history\", \"question\"],\n",
    "    template=(\n",
    "        \"Given the following conversation history:\\n{chat_history}\\n\"\n",
    "        \"and the new question:\\n{question}\\n\"\n",
    "        \"Generate a follow-up question if necessary.\"\n",
    "    )\n",
    ")\n",
    "question_generator = LLMChain(llm=llm, prompt=question_generator_prompt)"
   ]
  },
  {
   "cell_type": "code",
   "execution_count": 100,
   "id": "129ac5ec",
   "metadata": {},
   "outputs": [
    {
     "name": "stdout",
     "output_type": "stream",
     "text": [
      "\n",
      "\n",
      "\u001b[1m> Entering new ConversationalRetrievalChain chain...\u001b[0m\n",
      "\n",
      "\u001b[1m> Finished chain.\u001b[0m\n",
      "Q1: Please read the file, which has a balance sheet, an income statement, and a statement of cash flows. The columns are defined at the top -- for years 2019, 2020, 2021, 2022, 2023, 2024, 2025, and 2026. Row values represent those years in order. Confirm that you see the file and describe it.\n",
      "A1: Based on the context provided, it appears that the financial statements include income statements and cash flow statements spanning from December 31, 2019, to December 31, 2026. However, the specific figures for revenue, net income, cash flow from operations, and cash flow from financing are not included in the data I have access to.\n",
      "\n",
      "If you can provide specific figures or metrics from these statements, I would be happy to help analyze them or discuss any trends or changes you might be concerned about.\n"
     ]
    }
   ],
   "source": [
    "\n",
    "# Step 5: Create Combine Docs Chain\n",
    "combine_docs_chain = load_qa_chain(llm=llm, chain_type=\"stuff\")\n",
    "\n",
    "# Step 6: Create Conversational Retrieval Chain\n",
    "conversational_chain = ConversationalRetrievalChain(\n",
    "    retriever=retriever,  # Directly attach the retriever here\n",
    "    memory=memory,\n",
    "    question_generator=question_generator,\n",
    "    combine_docs_chain=combine_docs_chain,\n",
    "    verbose=True\n",
    ")\n",
    "\n",
    "# Step 7: Run Queries\n",
    "query_1 = \"Please read the file, which has a balance sheet, an income statement, and a statement of cash flows. The columns are defined at the top -- for years 2019, 2020, 2021, 2022, 2023, 2024, 2025, and 2026. Row values represent those years in order. Confirm that you see the file and describe it.\"\n",
    "response_1 = conversational_chain.invoke({\"question\": query_1})\n",
    "print(f\"Q1: {query_1}\")\n",
    "print(f\"A1: {response_1['answer']}\")"
   ]
  },
  {
   "cell_type": "code",
   "execution_count": 101,
   "id": "03fe450a",
   "metadata": {},
   "outputs": [
    {
     "name": "stdout",
     "output_type": "stream",
     "text": [
      "\n",
      "\n",
      "\u001b[1m> Entering new ConversationalRetrievalChain chain...\u001b[0m\n",
      "\n",
      "\u001b[1m> Finished chain.\u001b[0m\n",
      "Q1: They are provided, they are just not labeled well. Every row has a name of a line item. Please list all of the line item names that you see.\n",
      "A1: Based on the context you provided, it seems you're looking at a cash flow statement that includes categories like \"Cash Flow from Operations,\" \"Cash Flow from Investing,\" and \"Cash Flow from Financing.\" I can provide insights into these:\n",
      "\n",
      "1. **Cash Flow from Operations**: This represents the cash generated or used by a company's core business operations. It's an important measure because it indicates if a company can generate sufficient positive cash flow to maintain and grow its operations, or if it will need external financing.\n",
      "\n",
      "2. **Cash Flow from Investing**: This section includes cash spent on or generated from investments in the business, such as purchasing equipment or investments in securities. Negative cash flow from investing is not necessarily bad if it's due to significant investment in the company's growth.\n",
      "\n",
      "3. **Cash Flow from Financing**: This part outlines the cash flow between the company and its owners and creditors. It includes activities like issuing or buying back stock, issuing debt, or repaying debt.\n",
      "\n",
      "If you have specific line items or data within these categories that you need more detailed explanations on, feel free to share them!\n"
     ]
    }
   ],
   "source": [
    "query_1 = \"They are provided, they are just not labeled well. Every row has a name of a line item. Please list all of the line item names that you see.\"\n",
    "response_1 = conversational_chain.invoke({\"question\": query_1})\n",
    "print(f\"Q1: {query_1}\")\n",
    "print(f\"A1: {response_1['answer']}\")"
   ]
  },
  {
   "cell_type": "code",
   "execution_count": 102,
   "id": "7126ab86",
   "metadata": {},
   "outputs": [
    {
     "ename": "NameError",
     "evalue": "name 'data' is not defined",
     "output_type": "error",
     "traceback": [
      "\u001b[0;31m---------------------------------------------------------------------------\u001b[0m",
      "\u001b[0;31mNameError\u001b[0m                                 Traceback (most recent call last)",
      "Cell \u001b[0;32mIn[102], line 1\u001b[0m\n\u001b[0;32m----> 1\u001b[0m \u001b[43mdata\u001b[49m[\u001b[38;5;241m10\u001b[39m]\n",
      "\u001b[0;31mNameError\u001b[0m: name 'data' is not defined"
     ]
    }
   ],
   "source": [
    "data[10]"
   ]
  },
  {
   "cell_type": "code",
   "execution_count": null,
   "id": "77ac23bb",
   "metadata": {},
   "outputs": [],
   "source": []
  }
 ],
 "metadata": {
  "kernelspec": {
   "display_name": "mystudyenv",
   "language": "python",
   "name": "mystudyenv"
  },
  "language_info": {
   "codemirror_mode": {
    "name": "ipython",
    "version": 3
   },
   "file_extension": ".py",
   "mimetype": "text/x-python",
   "name": "python",
   "nbconvert_exporter": "python",
   "pygments_lexer": "ipython3",
   "version": "3.9.12"
  }
 },
 "nbformat": 4,
 "nbformat_minor": 5
}

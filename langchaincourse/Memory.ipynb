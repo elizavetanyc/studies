{
 "cells": [
  {
   "cell_type": "code",
   "execution_count": 61,
   "id": "7a0f93a6",
   "metadata": {},
   "outputs": [],
   "source": [
    "import os\n",
    "from openai import OpenAI\n",
    "\n",
    "from dotenv import load_dotenv, find_dotenv\n",
    "_ = load_dotenv(find_dotenv()) # read local .env file\n",
    "api_key = os.environ['OPENAI_API_KEY']\n",
    "\n",
    "from langchain_openai import ChatOpenAI\n",
    "\n",
    "from langchain_core.chat_history import InMemoryChatMessageHistory\n",
    "from langchain_core.runnables.history import RunnableWithMessageHistory\n",
    "from langchain.chains import ConversationChain\n",
    "from langchain.memory import ConversationBufferMemory\n",
    "from langchain.memory import ConversationSummaryMemory"
   ]
  },
  {
   "cell_type": "code",
   "execution_count": 62,
   "id": "4db16dac",
   "metadata": {},
   "outputs": [],
   "source": [
    "llm = ChatOpenAI(\n",
    "    model=\"gpt-4o\",\n",
    "    temperature=0,\n",
    "    max_tokens=None,\n",
    "    timeout=None,\n",
    ")\n",
    "\n",
    "memory = ConversationSummaryMemory(llm=llm)"
   ]
  },
  {
   "cell_type": "code",
   "execution_count": 63,
   "id": "87c5d3a4",
   "metadata": {},
   "outputs": [],
   "source": [
    "conversation = ConversationChain(\n",
    "    llm=llm,\n",
    "    memory=memory,\n",
    "    verbose=True\n",
    ")\n"
   ]
  },
  {
   "cell_type": "code",
   "execution_count": 64,
   "id": "8acc08e9",
   "metadata": {},
   "outputs": [
    {
     "name": "stdout",
     "output_type": "stream",
     "text": [
      "\n",
      "\n",
      "\u001b[1m> Entering new ConversationChain chain...\u001b[0m\n",
      "Prompt after formatting:\n",
      "\u001b[32;1m\u001b[1;3mThe following is a friendly conversation between a human and an AI. The AI is talkative and provides lots of specific details from its context. If the AI does not know the answer to a question, it truthfully says it does not know.\n",
      "\n",
      "Current conversation:\n",
      "\n",
      "Human: Hi, can you help me plan my day?\n",
      "AI:\u001b[0m\n",
      "\n",
      "\u001b[1m> Finished chain.\u001b[0m\n",
      "First Response:\n",
      "Of course! I'd be happy to help you plan your day. To get started, could you tell me a bit about what you have planned or any specific tasks you need to accomplish? Also, let me know if there are any particular goals or priorities you have in mind. This way, I can offer more tailored suggestions!\n"
     ]
    }
   ],
   "source": [
    "response = conversation.predict(input=\"Hi, can you help me plan my day?\")\n",
    "print(\"First Response:\")\n",
    "print(response)"
   ]
  },
  {
   "cell_type": "code",
   "execution_count": 65,
   "id": "3f40c9c8",
   "metadata": {},
   "outputs": [
    {
     "name": "stdout",
     "output_type": "stream",
     "text": [
      "\n",
      "\n",
      "\u001b[1m> Entering new ConversationChain chain...\u001b[0m\n",
      "Prompt after formatting:\n",
      "\u001b[32;1m\u001b[1;3mThe following is a friendly conversation between a human and an AI. The AI is talkative and provides lots of specific details from its context. If the AI does not know the answer to a question, it truthfully says it does not know.\n",
      "\n",
      "Current conversation:\n",
      "The human asks the AI for help in planning their day. The AI agrees to help and asks for details about the human's planned tasks, goals, and priorities to provide tailored suggestions.\n",
      "Human: What should I eat for breakfast?\n",
      "AI:\u001b[0m\n",
      "\n",
      "\u001b[1m> Finished chain.\u001b[0m\n",
      "Second Response:\n",
      "For breakfast, you might want to consider something that balances taste and nutrition to kickstart your day. How about a classic avocado toast? You can use whole-grain bread for added fiber, top it with smashed avocado, a sprinkle of salt, pepper, and maybe a dash of red pepper flakes for a bit of heat. If you like, you can add a poached or fried egg on top for some extra protein. Pair it with a side of fresh fruit, like berries or a banana, for natural sweetness and vitamins. If you prefer something warm and hearty, oatmeal is a great option. You can cook it with milk or a milk alternative, and top it with nuts, seeds, and a drizzle of honey or maple syrup. Do you have any dietary preferences or ingredients on hand that you'd like to incorporate?\n",
      "Conversation History:\n",
      "The human asks the AI for help in planning their day, and the AI agrees to help by asking for details about the human's planned tasks, goals, and priorities to provide tailored suggestions. When the human asks for breakfast ideas, the AI suggests options like avocado toast with whole-grain bread and a poached egg, or oatmeal with nuts and honey, while considering dietary preferences and available ingredients.\n"
     ]
    }
   ],
   "source": [
    "response = conversation.predict(input=\"What should I eat for breakfast?\")\n",
    "print(\"Second Response:\")\n",
    "print(response)\n",
    "\n",
    "# Print conversation history to verify updates\n",
    "print(\"Conversation History:\")\n",
    "print(memory.load_memory_variables({})[\"history\"])"
   ]
  },
  {
   "cell_type": "code",
   "execution_count": 66,
   "id": "d19538e3",
   "metadata": {},
   "outputs": [
    {
     "name": "stdout",
     "output_type": "stream",
     "text": [
      "For breakfast, you might want to consider something that balances taste and nutrition to kickstart your day. How about a classic avocado toast? You can use whole-grain bread for added fiber, top it with smashed avocado, a sprinkle of salt, pepper, and maybe a dash of red pepper flakes for a bit of heat. If you like, you can add a poached or fried egg on top for some extra protein. Pair it with a side of fresh fruit, like berries or a banana, for natural sweetness and vitamins. If you prefer something warm and hearty, oatmeal is a great option. You can cook it with milk or a milk alternative, and top it with nuts, seeds, and a drizzle of honey or maple syrup. Do you have any dietary preferences or ingredients on hand that you'd like to incorporate?\n"
     ]
    }
   ],
   "source": [
    "print(response) #should print latest response"
   ]
  },
  {
   "cell_type": "code",
   "execution_count": 67,
   "id": "0a012e3f",
   "metadata": {},
   "outputs": [
    {
     "name": "stdout",
     "output_type": "stream",
     "text": [
      "\n",
      "\n",
      "\u001b[1m> Entering new ConversationChain chain...\u001b[0m\n",
      "Prompt after formatting:\n",
      "\u001b[32;1m\u001b[1;3mThe following is a friendly conversation between a human and an AI. The AI is talkative and provides lots of specific details from its context. If the AI does not know the answer to a question, it truthfully says it does not know.\n",
      "\n",
      "Current conversation:\n",
      "The human asks the AI for help in planning their day, and the AI agrees to help by asking for details about the human's planned tasks, goals, and priorities to provide tailored suggestions. When the human asks for breakfast ideas, the AI suggests options like avocado toast with whole-grain bread and a poached egg, or oatmeal with nuts and honey, while considering dietary preferences and available ingredients.\n",
      "Human: What should I wear?\n",
      "AI:\u001b[0m\n",
      "\n",
      "\u001b[1m> Finished chain.\u001b[0m\n"
     ]
    }
   ],
   "source": [
    "response = conversation.predict(input=\"What should I wear?\")"
   ]
  },
  {
   "cell_type": "code",
   "execution_count": 68,
   "id": "16dd3600",
   "metadata": {},
   "outputs": [
    {
     "name": "stdout",
     "output_type": "stream",
     "text": [
      "To help you decide what to wear, let's consider a few factors: the weather, your planned activities, and your personal style preferences. \n",
      "\n",
      "1. **Weather**: Check the forecast for the day. If it's sunny and warm, you might opt for something light and breathable, like a cotton t-shirt and shorts or a sundress. If it's cooler or rainy, consider layering with a sweater or jacket and wearing jeans or trousers.\n",
      "\n",
      "2. **Activities**: Think about what you'll be doing today. If you have a casual day planned, comfortable attire like jeans and a t-shirt or a casual dress might be perfect. For a more formal setting, you might choose a button-up shirt with slacks or a blouse with a skirt.\n",
      "\n",
      "3. **Personal Style**: Consider what makes you feel confident and comfortable. If you love bright colors, maybe incorporate a vibrant scarf or accessory. If you prefer a minimalist look, stick to neutral tones and simple designs.\n",
      "\n",
      "Let me know if you have any specific events or preferences, and I can offer more tailored suggestions!\n"
     ]
    }
   ],
   "source": [
    "print(response)"
   ]
  },
  {
   "cell_type": "code",
   "execution_count": 69,
   "id": "c0d1e6d8",
   "metadata": {},
   "outputs": [
    {
     "name": "stdout",
     "output_type": "stream",
     "text": [
      "Conversation History:\n",
      "The human asks the AI for help in planning their day, and the AI agrees to help by asking for details about the human's planned tasks, goals, and priorities to provide tailored suggestions. When the human asks for breakfast ideas, the AI suggests options like avocado toast with whole-grain bread and a poached egg, or oatmeal with nuts and honey, while considering dietary preferences and available ingredients. For clothing advice, the AI suggests considering the weather, planned activities, and personal style preferences, offering specific suggestions based on these factors and inviting the human to provide more details for tailored recommendations.\n"
     ]
    }
   ],
   "source": [
    "# Print conversation history to verify updates\n",
    "print(\"Conversation History:\")\n",
    "print(memory.load_memory_variables({})[\"history\"])"
   ]
  },
  {
   "cell_type": "code",
   "execution_count": 44,
   "id": "90a30230",
   "metadata": {},
   "outputs": [],
   "source": [
    "#summary memory\n",
    "# As the conversation progresses, ConversationSummaryMemory will summarize the conversation to avoid bloating the memory."
   ]
  },
  {
   "cell_type": "code",
   "execution_count": 70,
   "id": "383d32aa",
   "metadata": {},
   "outputs": [
    {
     "name": "stdout",
     "output_type": "stream",
     "text": [
      "Summarized Memory:\n",
      "The human asks the AI for help in planning their day, and the AI agrees to help by asking for details about the human's planned tasks, goals, and priorities to provide tailored suggestions. When the human asks for breakfast ideas, the AI suggests options like avocado toast with whole-grain bread and a poached egg, or oatmeal with nuts and honey, while considering dietary preferences and available ingredients. For clothing advice, the AI suggests considering the weather, planned activities, and personal style preferences, offering specific suggestions based on these factors and inviting the human to provide more details for tailored recommendations.\n"
     ]
    }
   ],
   "source": [
    "print(\"Summarized Memory:\")\n",
    "print(memory.load_memory_variables({})[\"history\"])"
   ]
  },
  {
   "cell_type": "code",
   "execution_count": null,
   "id": "64bf1194",
   "metadata": {},
   "outputs": [],
   "source": []
  }
 ],
 "metadata": {
  "kernelspec": {
   "display_name": "mystudyenv",
   "language": "python",
   "name": "mystudyenv"
  },
  "language_info": {
   "codemirror_mode": {
    "name": "ipython",
    "version": 3
   },
   "file_extension": ".py",
   "mimetype": "text/x-python",
   "name": "python",
   "nbconvert_exporter": "python",
   "pygments_lexer": "ipython3",
   "version": "3.9.12"
  }
 },
 "nbformat": 4,
 "nbformat_minor": 5
}
